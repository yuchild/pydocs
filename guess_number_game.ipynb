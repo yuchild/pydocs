{
 "cells": [
  {
   "cell_type": "code",
   "execution_count": 1,
   "metadata": {},
   "outputs": [
    {
     "name": "stdout",
     "output_type": "stream",
     "text": [
      "Guess My Number 1-10 in 3 Tries Game\n",
      "MVP: The number is: 4\n",
      "Your guess number 1: 4\n",
      "Congratulations! You Won!\n"
     ]
    }
   ],
   "source": [
    "\n",
    "import numpy as np\n",
    "\n",
    "print(\"Guess My Number 1-10 in 3 Tries Game\")\n",
    "\n",
    "num = np.random.randint(1,11)\n",
    "\n",
    "def check(num, guess):\n",
    "    if num < guess:\n",
    "        return print('Too high!')\n",
    "    else:\n",
    "        return print('Too low!')\n",
    "\n",
    "\n",
    "exit = 1\n",
    "count = 1\n",
    "\n",
    "print(f'MVP: The number is: {num}')\n",
    "\n",
    "while exit:\n",
    "    guess = int(input(f'Your guess number {count}: '))\n",
    "    if guess != num and count != 3:\n",
    "        exit = 1\n",
    "        print(f'Nope! {check(num, guess)} You have {3-count} tries left!')\n",
    "    elif guess == num and count < 4:\n",
    "        print('Congratulations! You Won!')\n",
    "        exit = 0\n",
    "    else:\n",
    "        print(f'Nope! {check(num, guess)} Thanks for playing!')\n",
    "        exit = 0\n",
    "    count += 1\n",
    "        \n"
   ]
  },
  {
   "cell_type": "code",
   "execution_count": null,
   "metadata": {},
   "outputs": [],
   "source": []
  }
 ],
 "metadata": {
  "kernelspec": {
   "display_name": "Python 3",
   "language": "python",
   "name": "python3"
  },
  "language_info": {
   "codemirror_mode": {
    "name": "ipython",
    "version": 3
   },
   "file_extension": ".py",
   "mimetype": "text/x-python",
   "name": "python",
   "nbconvert_exporter": "python",
   "pygments_lexer": "ipython3",
   "version": "3.8.2"
  }
 },
 "nbformat": 4,
 "nbformat_minor": 4
}
